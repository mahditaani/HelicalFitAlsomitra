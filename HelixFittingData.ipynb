{
 "cells": [
  {
   "cell_type": "markdown",
   "id": "c9d6f593",
   "metadata": {},
   "source": [
    "## Import Libraries\n",
    "\n",
    "This notebook uses scipy for fitting and for peak-finding"
   ]
  },
  {
   "cell_type": "code",
   "execution_count": null,
   "id": "6b977e8c",
   "metadata": {},
   "outputs": [],
   "source": [
    "from scipy import optimize, signal, io\n",
    "import numpy as np\n",
    "import matplotlib.pyplot as plt"
   ]
  },
  {
   "cell_type": "markdown",
   "id": "a7e7ae0a",
   "metadata": {},
   "source": [
    "## Define Fitting Functions\n",
    "\n",
    "These functions will attempt to fit a sine wave to the x and y components of the alsomitra flight path. This requires a reasonable estimate for the amplitude and frequency of the sine wave"
   ]
  },
  {
   "cell_type": "code",
   "execution_count": null,
   "id": "f0098d29",
   "metadata": {},
   "outputs": [],
   "source": [
    "def generic_sin_wave(x, a, b, c, d):\n",
    "    \"\"\"\n",
    "    a: amplitude\n",
    "    b: period\n",
    "    c: phase\n",
    "    d: offset\n",
    "    y = a*sin(b*x + c) + d\n",
    "    \"\"\"\n",
    "    return a*np.sin(b*x + c) + d\n",
    "\n",
    "def guess_amplitude(y):\n",
    "    \"\"\"\n",
    "    Guess the amplitude of the sin wave\n",
    "    \"\"\"\n",
    "    return (np.max(y) - np.min(y))/2\n",
    "\n",
    "def guess_period(x, y, width=None):\n",
    "    \"\"\"\n",
    "    Guess the period of the sin wave\n",
    "    \"\"\"\n",
    "    peaks, properties = signal.find_peaks(y, width=width)\n",
    "    print(f\"{peaks=}\")\n",
    "    if np.size(peaks) >= 2:\n",
    "        mean_peak_dist = int(np.mean(np.diff(peaks)))\n",
    "        diff_x = x[mean_peak_dist] - x[0]\n",
    "        f = 2*np.pi/diff_x\n",
    "    else:\n",
    "        diff_x = x[-1] - x[0]\n",
    "        f = 2*np.pi/diff_x\n",
    "        \n",
    "    return f\n",
    "    \n",
    "def find_initial_params(x, y, width_peaks=None):\n",
    "    \"\"\"\n",
    "    Find the initial parameters for the sin wave fit\n",
    "    \"\"\"\n",
    "    # Some decent initial guesses\n",
    "    a = guess_amplitude(y)\n",
    "    b = guess_period(x,y, width=width_peaks)\n",
    "    print(f\"amplitude: {a}\")\n",
    "    print(f\"period: {b}\")\n",
    "    return a, b, 1, 1\n",
    "\n",
    "def fit(f, x, y, yhat, width_peaks=None):\n",
    "    \"\"\"\n",
    "    Fit the sin wave to the data.\n",
    "    x: x-axis data\n",
    "    y: y-axis data\n",
    "    yhat: smoothed y-axis data\n",
    "    \"\"\"\n",
    "    sol, cov = optimize.curve_fit(\n",
    "        f, x, y, p0=find_initial_params(x, yhat, width_peaks=width_peaks), maxfev=10000 \n",
    "    ) # bounds=(-inf, inf)\n",
    "    print(sol)\n",
    "    err = np.sqrt(np.diag(cov))\n",
    "    return sol, cov, err"
   ]
  },
  {
   "cell_type": "code",
   "execution_count": null,
   "id": "d6b02b61",
   "metadata": {},
   "outputs": [],
   "source": [
    "def read_data():\n",
    "    \"\"\"\n",
    "    Read the data from the file\n",
    "    \"\"\"\n",
    "    with open('x.dat') as f:\n",
    "        x_lines = f.readlines()\n",
    "    with open('y.dat') as f:\n",
    "        y_lines = f.readlines()\n",
    "    with open('z.dat') as f:\n",
    "        z_lines = f.readlines()\n",
    "            \n",
    "    return x_lines, y_lines, z_lines\n"
   ]
  },
  {
   "cell_type": "code",
   "execution_count": null,
   "id": "f47ef648",
   "metadata": {},
   "outputs": [],
   "source": [
    "x_lines, y_lines, z_lines = read_data()"
   ]
  },
  {
   "cell_type": "code",
   "execution_count": null,
   "id": "90f61e5c",
   "metadata": {},
   "outputs": [],
   "source": [
    "case = -4\n",
    "x = np.fromstring(x_lines[case], sep=';')\n",
    "y = np.fromstring(y_lines[case], sep=';')\n",
    "z = np.fromstring(z_lines[case], sep=';')\n",
    "\n",
    "t_sample = np.array([i for i in range(len(x))])\n",
    "y_sample = x\n",
    "y_hat = signal.savgol_filter(y_sample, len(y_sample), 7)\n",
    "sol, cov, err = fit(generic_sin_wave, t_sample,y_sample, y_hat)\n",
    "y_fit = generic_sin_wave(t_sample, sol[0], sol[1], sol[2], sol[3])\n",
    "\n",
    "plt.plot(t_sample, y_sample, 'bo' ,label='data')\n",
    "#plt.plot(t_sample, y_hat, label='filtered')\n",
    "plt.plot(t_sample, y_fit, 'r', label='fit')\n",
    "plt.legend(loc=\"lower left\")\n",
    "plt.show()"
   ]
  },
  {
   "cell_type": "code",
   "execution_count": null,
   "id": "48f9443e",
   "metadata": {},
   "outputs": [],
   "source": []
  }
 ],
 "metadata": {
  "kernelspec": {
   "display_name": "Python 3.10.5 ('.helicalfit')",
   "language": "python",
   "name": "python3"
  },
  "language_info": {
   "codemirror_mode": {
    "name": "ipython",
    "version": 3
   },
   "file_extension": ".py",
   "mimetype": "text/x-python",
   "name": "python",
   "nbconvert_exporter": "python",
   "pygments_lexer": "ipython3",
   "version": "3.10.5"
  },
  "vscode": {
   "interpreter": {
    "hash": "82ca7cd6608d08808620eac8b5743390909841f9eff0655a406ceba2730c89ec"
   }
  }
 },
 "nbformat": 4,
 "nbformat_minor": 5
}
