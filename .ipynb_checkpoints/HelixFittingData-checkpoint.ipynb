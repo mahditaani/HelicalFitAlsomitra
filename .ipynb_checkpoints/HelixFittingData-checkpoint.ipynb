{
 "cells": [
  {
   "cell_type": "code",
   "execution_count": 1,
   "id": "6b977e8c",
   "metadata": {},
   "outputs": [],
   "source": [
    "from scipy import optimize, signal, io\n",
    "import numpy as np\n",
    "import matplotlib.pyplot as plt"
   ]
  },
  {
   "cell_type": "code",
   "execution_count": 2,
   "id": "f0098d29",
   "metadata": {},
   "outputs": [],
   "source": [
    "def f(x, a, b, c, d):\n",
    "    # y = a*sin(b*x + c) + d\n",
    "    return a*np.sin(b*x + c) + d\n",
    "\n",
    "def guess_amplitude(y):\n",
    "    return (np.max(y) - np.min(y))/2\n",
    "\n",
    "def guess_period(x, y, width=None):\n",
    "    peaks, properties = signal.find_peaks(y, width=width)\n",
    "    print(f\"{peaks=}\")\n",
    "    if np.size(peaks) >= 2:\n",
    "        mean_peak_dist = int(np.mean(np.diff(peaks)))\n",
    "        diff_x = x[mean_peak_dist] - x[0]\n",
    "        f = 2*np.pi/diff_x\n",
    "    else:\n",
    "        diff_x = x[-1] - x[0]\n",
    "        f = 2*np.pi/diff_x\n",
    "        \n",
    "    return f\n",
    "    \n",
    "def find_initial_params(x, y, width_peaks=None):\n",
    "    # Some decent initial guesses\n",
    "    a = guess_amplitude(y)\n",
    "    b = guess_period(x,y, width=width_peaks)\n",
    "    return a, b, 1, 1\n",
    "\n",
    "def fit(f, x, y, width_peaks=None):\n",
    "    sol, cov = optimize.curve_fit(\n",
    "        f, x, y, p0=find_initial_params(x, y, width_peaks=width_peaks) \n",
    "    ) # bounds=(-inf, inf)\n",
    "    print(sol)\n",
    "    err = np.sqrt(np.diag(cov))\n",
    "    return sol, cov, err"
   ]
  },
  {
   "cell_type": "code",
   "execution_count": 3,
   "id": "d6b02b61",
   "metadata": {},
   "outputs": [],
   "source": [
    "def test_cases(i):\n",
    "    if i == 1:\n",
    "        return 10, 0.3, 0.5, 5\n",
    "    if i == 2:\n",
    "        return 10, 10, 10, 10\n",
    "    if i == 3:\n",
    "        return 10, 0.1, 10, 10\n",
    "    if i == 4:\n",
    "        return 10, 1, 10, 10\n",
    "\n",
    "def real_cases():\n",
    "    with open('x.dat') as f:\n",
    "        x_lines = f.readlines()\n",
    "    with open('y.dat') as f:\n",
    "        y_lines = f.readlines()\n",
    "    with open('z.dat') as f:\n",
    "        z_lines = f.readlines()\n",
    "        \n",
    "    #x = np.loadtxt('x.dat', delimiter=';')\n",
    "    #y = np.loadtxt('y.dat', delimiter=';')\n",
    "    #z = np.loadtxt('z.dat', delimiter=';')\n",
    "    \n",
    "    return x_lines, y_lines, z_lines\n"
   ]
  },
  {
   "cell_type": "code",
   "execution_count": 4,
   "id": "f47ef648",
   "metadata": {},
   "outputs": [],
   "source": [
    "## Make some test data\n",
    "#t_sample = np.linspace(0,10, 100)\n",
    "#a, b, c, d = test_cases(3)\n",
    "#y_sample = f(t_sample, a, b, c, d )\n",
    "# Add noise\n",
    "#y_sample += np.random.normal(0, 0.2, len(y_sample))\n",
    "# Make some test data\n",
    "x_lines, y_lines, z_lines = real_cases()\n"
   ]
  },
  {
   "cell_type": "code",
   "execution_count": 10,
   "id": "90f61e5c",
   "metadata": {},
   "outputs": [
    {
     "name": "stdout",
     "output_type": "stream",
     "text": [
      "peaks=array([89], dtype=int64)\n",
      "[-3.24432556e+02  7.78302717e-02 -2.07777479e+00 -3.92429414e+02]\n"
     ]
    },
    {
     "data": {
      "image/png": "[encoded data removed]",
      "text/plain": [
       "<Figure size 432x288 with 1 Axes>"
      ]
     },
     "metadata": {
      "needs_background": "light"
     },
     "output_type": "display_data"
    }
   ],
   "source": [
    "case = -1\n",
    "x = np.fromstring(x_lines[case], sep=';')\n",
    "y = np.fromstring(y_lines[case], sep=';')\n",
    "z = np.fromstring(z_lines[case], sep=';')\n",
    "#if len(x.shape) > 1:   \n",
    "#    t_sample = np.array([i for i in range(len(x[0]))])\n",
    "#    y_sample = y[0]\n",
    "#else:\n",
    "t_sample = np.array([i for i in range(len(x))])\n",
    "y_sample = x\n",
    "y_hat = signal.savgol_filter(y_sample, len(y_sample), 7)\n",
    "sol, cov, err = fit(f, t_sample, y_hat)\n",
    "y_fit = f(t_sample, sol[0], sol[1], sol[2], sol[3])\n",
    "\n",
    "plt.plot(t_sample, y_sample, 'bo' ,label='data')\n",
    "#plt.plot(t_sample, y_hat, label='filtered')\n",
    "plt.plot(t_sample, y_fit, 'r', label='fit')\n",
    "plt.legend(loc=\"lower left\")\n",
    "plt.show()"
   ]
  },
  {
   "cell_type": "code",
   "execution_count": null,
   "id": "24e37962",
   "metadata": {},
   "outputs": [],
   "source": [
    "#plt.plot(t_sample, y_sample)\n",
    "#yhat = signal.savgol_filter(y_sample, len(y_sample), 7)\n",
    "#plt.plot(t_sample, yhat)\n",
    "#plt.show()"
   ]
  },
  {
   "cell_type": "code",
   "execution_count": null,
   "id": "70cc4a74",
   "metadata": {},
   "outputs": [],
   "source": []
  },
  {
   "cell_type": "code",
   "execution_count": null,
   "id": "f994e6cf",
   "metadata": {},
   "outputs": [],
   "source": [
    "#sol, cov, err = fit(f, t_sample, yhat, width_peaks=None)"
   ]
  },
  {
   "cell_type": "code",
   "execution_count": null,
   "id": "57d4668a",
   "metadata": {},
   "outputs": [],
   "source": []
  },
  {
   "cell_type": "code",
   "execution_count": null,
   "id": "9e81d95b",
   "metadata": {},
   "outputs": [],
   "source": [
    "plt.plot(t_sample, y_sample)\n",
    "plt.plot(t_sample, y_fit)\n",
    "plt.show()"
   ]
  },
  {
   "cell_type": "code",
   "execution_count": null,
   "id": "5755240a",
   "metadata": {},
   "outputs": [],
   "source": []
  }
 ],
 "metadata": {
  "kernelspec": {
   "display_name": "Python 3 (ipykernel)",
   "language": "python",
   "name": "python3"
  },
  "language_info": {
   "codemirror_mode": {
    "name": "ipython",
    "version": 3
   },
   "file_extension": ".py",
   "mimetype": "text/x-python",
   "name": "python",
   "nbconvert_exporter": "python",
   "pygments_lexer": "ipython3",
   "version": "3.10.5"
  }
 },
 "nbformat": 4,
 "nbformat_minor": 5
}
